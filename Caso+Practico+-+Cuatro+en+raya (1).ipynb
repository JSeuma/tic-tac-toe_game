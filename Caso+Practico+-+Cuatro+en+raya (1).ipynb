{
 "cells": [
  {
   "cell_type": "markdown",
   "metadata": {},
   "source": [
    "### 1. Define e implementa el tablero del juego"
   ]
  },
  {
   "cell_type": "markdown",
   "metadata": {},
   "source": [
    "<div style=\"background-color:#D9EEFF;color:black;padding:2%;\">\n",
    "Implementa una función que genere un tablero nuevo. El tablero no debe ser complejo, para representarlo, utiliza una lista con varias listas anidadas.\n",
    "</div>"
   ]
  },
  {
   "cell_type": "markdown",
   "metadata": {},
   "source": [
    "Una vez implementado el tablero, deberías obtener algo similar a lo siguiente:"
   ]
  },
  {
   "attachments": {
    "image-2.png": {
     "image/png": "[encoded data removed]"
    }
   },
   "cell_type": "markdown",
   "metadata": {},
   "source": [
    "![image-2.png](attachment:image-2.png)"
   ]
  },
  {
   "cell_type": "markdown",
   "metadata": {},
   "source": [
    "**Pista:** Te recomiendo que la definición de la función sea similar a la siguiente:\n",
    "```\n",
    "def crear_tablero(filas, columnas):\n",
    "    <sentencias para crear el tablero>\n",
    "    return tablero\n",
    "```"
   ]
  },
  {
   "cell_type": "code",
   "execution_count": 3,
   "metadata": {},
   "outputs": [],
   "source": [
    "class CuatroEnRaya:\n",
    "    \n",
    "    def __init__(self, filas, columnas):\n",
    "        \"\"\"Inicializa el estado de la clase.\"\"\"\n",
    "        self._filas = filas\n",
    "        self._columnas = columnas\n",
    "        self._tablero = self.crear_tablero()\n",
    "        \n",
    "    def crear_tablero(self):\n",
    "        tablero = [None]*self._filas\n",
    "        for f in range(self._filas):\n",
    "            tablero[f] = ['.']*self._columnas\n",
    "        return tablero"
   ]
  },
  {
   "cell_type": "code",
   "execution_count": 4,
   "metadata": {},
   "outputs": [],
   "source": [
    "juego = CuatroEnRaya(6, 7)"
   ]
  },
  {
   "cell_type": "code",
   "execution_count": 5,
   "metadata": {},
   "outputs": [
    {
     "data": {
      "text/plain": [
       "[['.', '.', '.', '.', '.', '.', '.'],\n",
       " ['.', '.', '.', '.', '.', '.', '.'],\n",
       " ['.', '.', '.', '.', '.', '.', '.'],\n",
       " ['.', '.', '.', '.', '.', '.', '.'],\n",
       " ['.', '.', '.', '.', '.', '.', '.'],\n",
       " ['.', '.', '.', '.', '.', '.', '.']]"
      ]
     },
     "execution_count": 5,
     "metadata": {},
     "output_type": "execute_result"
    }
   ],
   "source": [
    "juego._tablero"
   ]
  },
  {
   "cell_type": "code",
   "execution_count": null,
   "metadata": {},
   "outputs": [],
   "source": [
    "def crear_tablero(filas, columnas):\n",
    "    tablero = [None]*filas\n",
    "    for f in range(filas):\n",
    "        tablero[f] = ['.']*columnas\n",
    "    return tablero"
   ]
  },
  {
   "cell_type": "code",
   "execution_count": null,
   "metadata": {},
   "outputs": [],
   "source": [
    "tablero = crear_tablero(6, 7)"
   ]
  },
  {
   "cell_type": "code",
   "execution_count": null,
   "metadata": {},
   "outputs": [],
   "source": [
    "tablero"
   ]
  },
  {
   "cell_type": "markdown",
   "metadata": {},
   "source": [
    "<div style=\"background-color:#D9EEFF;color:black;padding:2%;\">\n",
    "Una vez implementada la función para crear el tablero, implementa otra función que permita imprimir el tablero por pantalla de manera que el resultado sea similar al que se muestra en la imagen anterior.\n",
    "</div>"
   ]
  },
  {
   "cell_type": "markdown",
   "metadata": {},
   "source": [
    "**Pista:** Te recomiendo que la definición de la función sea similar a la siguiente:\n",
    "```\n",
    "def mostrar_tablero(tablero):\n",
    "    <sentencias para mostrar el tablero por pantalla>\n",
    "```"
   ]
  },
  {
   "cell_type": "code",
   "execution_count": 6,
   "metadata": {},
   "outputs": [],
   "source": [
    "class CuatroEnRaya:\n",
    "    \n",
    "    def __init__(self, filas, columnas):\n",
    "        \"\"\"Inicializa el estado de la clase.\"\"\"\n",
    "        self._filas = filas\n",
    "        self._columnas = columnas\n",
    "        self._tablero = self.crear_tablero()\n",
    "        \n",
    "    def crear_tablero(self):\n",
    "        tablero = [None]*self._filas\n",
    "        for f in range(self._filas):\n",
    "            tablero[f] = ['.']*self._columnas\n",
    "        return tablero\n",
    "    \n",
    "    def mostrar_tablero(self):\n",
    "        # Sacamos por pantalla la cabecera\n",
    "        for num in range(self._columnas):\n",
    "            print(num, end='  ')\n",
    "        # Sacamos por pantalla el tablero\n",
    "        for fila in self._tablero:\n",
    "            print(\"\")\n",
    "            for casilla in fila:\n",
    "                print(casilla, end=\"  \")"
   ]
  },
  {
   "cell_type": "code",
   "execution_count": 9,
   "metadata": {},
   "outputs": [],
   "source": [
    "juego = CuatroEnRaya(10, 10)"
   ]
  },
  {
   "cell_type": "code",
   "execution_count": 10,
   "metadata": {},
   "outputs": [
    {
     "name": "stdout",
     "output_type": "stream",
     "text": [
      "0  1  2  3  4  5  6  7  8  9  \n",
      ".  .  .  .  .  .  .  .  .  .  \n",
      ".  .  .  .  .  .  .  .  .  .  \n",
      ".  .  .  .  .  .  .  .  .  .  \n",
      ".  .  .  .  .  .  .  .  .  .  \n",
      ".  .  .  .  .  .  .  .  .  .  \n",
      ".  .  .  .  .  .  .  .  .  .  \n",
      ".  .  .  .  .  .  .  .  .  .  \n",
      ".  .  .  .  .  .  .  .  .  .  \n",
      ".  .  .  .  .  .  .  .  .  .  \n",
      ".  .  .  .  .  .  .  .  .  .  "
     ]
    }
   ],
   "source": [
    "juego.mostrar_tablero()"
   ]
  },
  {
   "cell_type": "code",
   "execution_count": null,
   "metadata": {},
   "outputs": [],
   "source": [
    "def mostrar_tablero(tablero):\n",
    "    # Sacamos por pantalla la cabecera\n",
    "    for num in range(len(tablero[0])):\n",
    "        print(num, end='  ')\n",
    "    # Sacamos por pantalla el tablero\n",
    "    for fila in tablero:\n",
    "        print(\"\")\n",
    "        for casilla in fila:\n",
    "            print(casilla, end=\"  \")"
   ]
  },
  {
   "cell_type": "code",
   "execution_count": null,
   "metadata": {},
   "outputs": [],
   "source": [
    "mostrar_tablero(tablero)"
   ]
  },
  {
   "cell_type": "markdown",
   "metadata": {},
   "source": [
    "### 2. Introducir fichas en el tablero"
   ]
  },
  {
   "cell_type": "markdown",
   "metadata": {},
   "source": [
    "¡Genial! Ya tienes el tablero implementado, lo siguiente que debes hacer es implementar las funciones que se requieren para que los usuarios puedan introducir fichas en el tablero."
   ]
  },
  {
   "cell_type": "markdown",
   "metadata": {},
   "source": [
    "<div style=\"background-color:#D9EEFF;color:black;padding:2%;\">\n",
    "Implementa una función que permita introducir una nueva ficha en el tablero. Para ello, ten en cuenta varias condiciones importantes, como, por ejemplo, que la columna no se encuentre fuera del rango o que la columna no se encuentre llena de fichas.\n",
    "</div>"
   ]
  },
  {
   "cell_type": "markdown",
   "metadata": {},
   "source": [
    "El resultado de introducir las fichas en el tablero debe ser similar al que se muestra en la siguiente imagen:"
   ]
  },
  {
   "attachments": {
    "image.png": {
     "image/png": "[encoded data removed]"
    }
   },
   "cell_type": "markdown",
   "metadata": {},
   "source": [
    "![image.png](attachment:image.png)"
   ]
  },
  {
   "cell_type": "markdown",
   "metadata": {},
   "source": [
    "**Pista:** Te recomiendo que la definición de la función sea similar a la siguiente:\n",
    "```\n",
    "def introducir_ficha(tablero, columna, color):\n",
    "    <sentencias para introducir una ficha en el tablero>\n",
    "    return tablero\n",
    "```"
   ]
  },
  {
   "cell_type": "code",
   "execution_count": 15,
   "metadata": {},
   "outputs": [],
   "source": [
    "class CuatroEnRaya:\n",
    "    \n",
    "    def __init__(self, filas, columnas):\n",
    "        \"\"\"Inicializa el estado de la clase.\"\"\"\n",
    "        self._filas = filas\n",
    "        self._columnas = columnas\n",
    "        self._tablero = self.crear_tablero()\n",
    "        \n",
    "    def crear_tablero(self):\n",
    "        tablero = [None]*self._filas\n",
    "        for f in range(self._filas):\n",
    "            tablero[f] = ['.']*self._columnas\n",
    "        return tablero\n",
    "    \n",
    "    def mostrar_tablero(self):\n",
    "        # Sacamos por pantalla la cabecera\n",
    "        for num in range(self._columnas):\n",
    "            print(num, end='  ')\n",
    "        # Sacamos por pantalla el tablero\n",
    "        for fila in self._tablero:\n",
    "            print(\"\")\n",
    "            for casilla in fila:\n",
    "                print(casilla, end=\"  \")\n",
    "\n",
    "    def introducir_ficha(self, columna, color):\n",
    "        if columna >= self._columnas or columna < 0:\n",
    "            print(\"ERROR: ¡Número de columna fuera del rango!\")\n",
    "        elif self._tablero[0][columna] != '.':\n",
    "            print(\"ERROR: ¡La columna esta llena de fichas!\")\n",
    "        else:\n",
    "            for fila in range(self._filas-1, -1, -1):\n",
    "                if self._tablero[fila][columna] == '.':\n",
    "                    self._tablero[fila][columna] = color\n",
    "                    return        "
   ]
  },
  {
   "cell_type": "code",
   "execution_count": 16,
   "metadata": {},
   "outputs": [],
   "source": [
    "juego = CuatroEnRaya(7, 8)"
   ]
  },
  {
   "cell_type": "code",
   "execution_count": 21,
   "metadata": {},
   "outputs": [
    {
     "name": "stdout",
     "output_type": "stream",
     "text": [
      "0  1  2  3  4  5  6  7  \n",
      ".  .  .  .  .  .  .  .  \n",
      ".  .  .  .  .  .  .  .  \n",
      ".  .  .  .  .  .  .  .  \n",
      ".  .  .  .  .  .  .  .  \n",
      ".  .  .  .  .  .  .  .  \n",
      ".  .  .  .  .  .  .  O  \n",
      "X  .  .  X  .  .  .  X  "
     ]
    }
   ],
   "source": [
    "juego = CuatroEnRaya(7, 8)\n",
    "juego.introducir_ficha(7, 'O')\n",
    "juego.mostrar_tablero()"
   ]
  },
  {
   "cell_type": "code",
   "execution_count": null,
   "metadata": {},
   "outputs": [],
   "source": []
  },
  {
   "cell_type": "code",
   "execution_count": null,
   "metadata": {},
   "outputs": [],
   "source": [
    "def introducir_ficha(tablero, columna, color):\n",
    "    if columna >= len(tablero[0]):\n",
    "        print(\"ERROR: ¡Número de columna fuera del rango!\")\n",
    "    elif tablero[0][columna] != '.':\n",
    "        print(\"ERROR: ¡La columna esta llena de fichas!\")\n",
    "    else:\n",
    "        for fila in range(len(tablero)-1, -1, -1):\n",
    "            if tablero[fila][columna] == '.':\n",
    "                tablero[fila][columna] = color\n",
    "                return tablero    "
   ]
  },
  {
   "cell_type": "code",
   "execution_count": null,
   "metadata": {},
   "outputs": [],
   "source": [
    "introducir_ficha(tablero, 0, 'X')"
   ]
  },
  {
   "cell_type": "code",
   "execution_count": null,
   "metadata": {},
   "outputs": [],
   "source": [
    "mostrar_tablero(tablero)"
   ]
  },
  {
   "cell_type": "markdown",
   "metadata": {},
   "source": [
    "### 3. Comprobar si se realiza cuatro en raya"
   ]
  },
  {
   "cell_type": "markdown",
   "metadata": {},
   "source": [
    "Ya tenemos nuestro tablero implementado y podemos meter fichas en él, sin embargo, nos falta uno de los comportamientos más importantes de este juego, la comprobación de si un usuario ha realizado cuatro en raya."
   ]
  },
  {
   "cell_type": "markdown",
   "metadata": {},
   "source": [
    "<div style=\"background-color:#D9EEFF;color:black;padding:2%;\">\n",
    "    Implementa cuatro funciones que permitan verificar si se ha realizado cuatro en raya en horizaonal, vertical o diagonal.</div>"
   ]
  },
  {
   "cell_type": "markdown",
   "metadata": {},
   "source": [
    "**Pista:** Te recomiendo que la definición de la función para revisar cuatro en raya en horizontal (filas) sea similar a la siguiente:\n",
    "```\n",
    "def revisar_filas(tablero, color):\n",
    "    <sentencias para verificar cuatro en raya en horizontal>\n",
    "    return True o False\n",
    "```"
   ]
  },
  {
   "cell_type": "code",
   "execution_count": 22,
   "metadata": {},
   "outputs": [],
   "source": [
    "class CuatroEnRaya:\n",
    "    \n",
    "    def __init__(self, filas, columnas):\n",
    "        \"\"\"Inicializa el estado de la clase.\"\"\"\n",
    "        self._filas = filas\n",
    "        self._columnas = columnas\n",
    "        self._tablero = self.crear_tablero()\n",
    "        \n",
    "    def crear_tablero(self):\n",
    "        tablero = [None]*self._filas\n",
    "        for f in range(self._filas):\n",
    "            tablero[f] = ['.']*self._columnas\n",
    "        return tablero\n",
    "    \n",
    "    def mostrar_tablero(self):\n",
    "        # Sacamos por pantalla la cabecera\n",
    "        for num in range(self._columnas):\n",
    "            print(num, end='  ')\n",
    "        # Sacamos por pantalla el tablero\n",
    "        for fila in self._tablero:\n",
    "            print(\"\")\n",
    "            for casilla in fila:\n",
    "                print(casilla, end=\"  \")\n",
    "\n",
    "    def introducir_ficha(self, columna, color):\n",
    "        if columna >= self._columnas or columna < 0:\n",
    "            print(\"ERROR: ¡Número de columna fuera del rango!\")\n",
    "        elif self._tablero[0][columna] != '.':\n",
    "            print(\"ERROR: ¡La columna esta llena de fichas!\")\n",
    "        else:\n",
    "            for fila in range(self._filas-1, -1, -1):\n",
    "                if self._tablero[fila][columna] == '.':\n",
    "                    self._tablero[fila][columna] = color\n",
    "                    return\n",
    "             \n",
    "    def revisar_fila(self, color):\n",
    "        # Recorremos las filas en busca de 4 en raya\n",
    "        for r in range(self._filas):\n",
    "            for c in range(self._columnas - 3):\n",
    "                if self._tablero[r][c] == color and self._tablero[r][c+1] == color and self._tablero[r][c+2] == color and self._tablero[r][c+3] == color:\n",
    "                    return True\n",
    "                \n",
    "                \n",
    "    def _revisar_columnas(self, color):\n",
    "        # Recorremos las filas en busca de 4 en raya\n",
    "        for c in range(self._columnas):\n",
    "            for r in range(self._filas - 3):\n",
    "                if self._tablero[r][c] == color and self._tablero[r+1][c] == color and self._tablero[r+2][c] == color and self._tablero[r+3][c] == color:\n",
    "                    return True\n",
    "                \n",
    "    def _revisar_diagonal_derecha(self, color):\n",
    "        # Recorremos las filas en busca de 4 en raya\n",
    "        for c in range(self._columnas - 3):\n",
    "            for r in range(self._filas-1, 2, -1):\n",
    "                if self._tablero[r][c] == color and self._tablero[r-1][c+1] == color and self._tablero[r-2][c+2] == color and self._tablero[r-3][c+3] == color:\n",
    "                    return True\n",
    "                \n",
    "    def _revisar_diagonal_izquierda(self, color):\n",
    "        # Recorremos las filas en busca de 4 en raya\n",
    "        for c in range(self._columnas-1, 2, -1):\n",
    "            for r in range(self._filas-1, 2, -1):\n",
    "                if self._tablero[r][c] == color and self._tablero[r-1][c-1] == color and self._tablero[r-2][c-2] == color and self._tablero[r-3][c-3] == color:\n",
    "                    return True\n",
    "                "
   ]
  },
  {
   "cell_type": "code",
   "execution_count": null,
   "metadata": {},
   "outputs": [],
   "source": [
    "juego = CuatroEnRaya(7, 8)"
   ]
  },
  {
   "cell_type": "code",
   "execution_count": 27,
   "metadata": {},
   "outputs": [
    {
     "name": "stdout",
     "output_type": "stream",
     "text": [
      "0  1  2  3  4  5  6  7  \n",
      ".  .  .  .  .  .  .  .  \n",
      ".  .  .  .  .  .  .  .  \n",
      ".  .  .  .  .  .  .  .  \n",
      ".  .  .  .  .  .  .  .  \n",
      ".  .  .  .  .  .  .  .  \n",
      ".  .  .  .  .  .  .  .  \n",
      ".  .  .  .  O  O  O  O  "
     ]
    }
   ],
   "source": [
    "juego.introducir_ficha(4, 'O')\n",
    "juego.mostrar_tablero()"
   ]
  },
  {
   "cell_type": "code",
   "execution_count": 28,
   "metadata": {},
   "outputs": [
    {
     "data": {
      "text/plain": [
       "True"
      ]
     },
     "execution_count": 28,
     "metadata": {},
     "output_type": "execute_result"
    }
   ],
   "source": [
    "juego.revisar_fila('O')"
   ]
  },
  {
   "cell_type": "code",
   "execution_count": null,
   "metadata": {},
   "outputs": [],
   "source": [
    "def revisar_filas(tablero, color):\n",
    "    # Obtenemos el numero de filas y columnas\n",
    "    num_filas = len(tablero)\n",
    "    num_columnas = len(tablero[0])\n",
    "    # Recorremos las filas en busca de 4 en raya\n",
    "    for r in range(num_filas):\n",
    "        for c in range(num_columnas - 3):\n",
    "            if tablero[r][c] == color and tablero[r][c+1] == color and tablero[r][c+2] == color and tablero[r][c+3] == color:\n",
    "                return True"
   ]
  },
  {
   "cell_type": "markdown",
   "metadata": {},
   "source": [
    "**Pista:** Te recomiendo que la definición de la función para revisar cuatro en raya en vertical (columnas) sea similar a la siguiente:\n",
    "```\n",
    "def revisar_columnas(tablero, color):\n",
    "    <sentencias para verificar cuatro en raya en vertical>\n",
    "    return True o False\n",
    "```"
   ]
  },
  {
   "cell_type": "code",
   "execution_count": null,
   "metadata": {},
   "outputs": [],
   "source": [
    "def revisar_columnas(tablero, color):\n",
    "    # Obtenemos el numero de filas y columnas\n",
    "    num_filas = len(tablero)\n",
    "    num_columnas = len(tablero[0])\n",
    "    # Recorremos las filas en busca de 4 en raya\n",
    "    for c in range(num_columnas):\n",
    "        for r in range(num_filas - 3):\n",
    "            if tablero[r][c] == color and tablero[r+1][c] == color and tablero[r+2][c] == color and tablero[r+3][c] == color:\n",
    "                return True"
   ]
  },
  {
   "cell_type": "markdown",
   "metadata": {},
   "source": [
    "**Pista:** Te recomiendo que la definición de la función para revisar cuatro en raya en la diagonal derecha sea similar a la siguiente:\n",
    "```\n",
    "def revisar_diagonal_derecha(tablero, color):\n",
    "    <sentencias para verificar cuatro en raya en diagonal derecha>\n",
    "    return True o False\n",
    "```"
   ]
  },
  {
   "cell_type": "code",
   "execution_count": null,
   "metadata": {},
   "outputs": [],
   "source": [
    "def revisar_diagonal_derecha(tablero, color):\n",
    "    # Obtenemos el numero de filas y columnas\n",
    "    num_filas = len(tablero)\n",
    "    num_columnas = len(tablero[0])\n",
    "    # Recorremos las filas en busca de 4 en raya\n",
    "    for c in range(num_columnas - 3):\n",
    "        for r in range(num_filas-1, 2, -1):\n",
    "            if tablero[r][c] == color and tablero[r-1][c+1] == color and tablero[r-2][c+2] == color and tablero[r-3][c+3] == color:\n",
    "                return True"
   ]
  },
  {
   "cell_type": "markdown",
   "metadata": {},
   "source": [
    "**Pista:** Te recomiendo que la definición de la función para revisar cuatro en raya en la diagonal izquierda sea similar a la siguiente:\n",
    "```\n",
    "def revisar_diagonal_izquierda(tablero, color):\n",
    "    <sentencias para verificar cuatro en raya en diagonal izquierda>\n",
    "    return True o False\n",
    "```"
   ]
  },
  {
   "cell_type": "code",
   "execution_count": null,
   "metadata": {},
   "outputs": [],
   "source": [
    "def revisar_diagonal_izquierda(tablero, color):\n",
    "    # Obtenemos el numero de filas y columnas\n",
    "    num_filas = len(tablero)\n",
    "    num_columnas = len(tablero[0])\n",
    "    # Recorremos las filas en busca de 4 en raya\n",
    "    for c in range(num_columnas-1, 2, -1):\n",
    "        for r in range(num_filas-1, 2, -1):\n",
    "            if tablero[r][c] == color and tablero[r-1][c-1] == color and tablero[r-2][c-2] == color and tablero[r-3][c-3] == color:\n",
    "                return True"
   ]
  },
  {
   "cell_type": "markdown",
   "metadata": {},
   "source": [
    "<div style=\"background-color:#D9EEFF;color:black;padding:2%;\">\n",
    "    Implementa una función que agrupe las cuatro funciones anteriores.</div>"
   ]
  },
  {
   "cell_type": "markdown",
   "metadata": {},
   "source": [
    "**Pista:** Te recomiendo que la definición de la función para revisar cuatro en raya en la diagonal izquierda sea similar a la siguiente:\n",
    "```\n",
    "def comprobar_ganador(tablero, color):\n",
    "    <sentencias para verificar si se ha realizado cuatro en raya en todas las posiciones>\n",
    "    return True o False\n",
    "```"
   ]
  },
  {
   "cell_type": "code",
   "execution_count": 29,
   "metadata": {},
   "outputs": [],
   "source": [
    "class CuatroEnRaya:\n",
    "    \n",
    "    def __init__(self, filas, columnas):\n",
    "        \"\"\"Inicializa el estado de la clase.\"\"\"\n",
    "        self._filas = filas\n",
    "        self._columnas = columnas\n",
    "        self._tablero = self.crear_tablero()\n",
    "        \n",
    "    def crear_tablero(self):\n",
    "        tablero = [None]*self._filas\n",
    "        for f in range(self._filas):\n",
    "            tablero[f] = ['.']*self._columnas\n",
    "        return tablero\n",
    "    \n",
    "    def mostrar_tablero(self):\n",
    "        # Sacamos por pantalla la cabecera\n",
    "        for num in range(self._columnas):\n",
    "            print(num, end='  ')\n",
    "        # Sacamos por pantalla el tablero\n",
    "        for fila in self._tablero:\n",
    "            print(\"\")\n",
    "            for casilla in fila:\n",
    "                print(casilla, end=\"  \")\n",
    "\n",
    "    def introducir_ficha(self, columna, color):\n",
    "        if columna >= self._columnas or columna < 0:\n",
    "            print(\"ERROR: ¡Número de columna fuera del rango!\")\n",
    "        elif self._tablero[0][columna] != '.':\n",
    "            print(\"ERROR: ¡La columna esta llena de fichas!\")\n",
    "        else:\n",
    "            for fila in range(self._filas-1, -1, -1):\n",
    "                if self._tablero[fila][columna] == '.':\n",
    "                    self._tablero[fila][columna] = color\n",
    "                    return\n",
    "             \n",
    "    def _revisar_fila(self, color):\n",
    "        # Recorremos las filas en busca de 4 en raya\n",
    "        for r in range(self._filas):\n",
    "            for c in range(self._columnas - 3):\n",
    "                if self._tablero[r][c] == color and self._tablero[r][c+1] == color and self._tablero[r][c+2] == color and self._tablero[r][c+3] == color:\n",
    "                    return True\n",
    "                \n",
    "                \n",
    "    def _revisar_columnas(self, color):\n",
    "        # Recorremos las filas en busca de 4 en raya\n",
    "        for c in range(self._columnas):\n",
    "            for r in range(self._filas - 3):\n",
    "                if self._tablero[r][c] == color and self._tablero[r+1][c] == color and self._tablero[r+2][c] == color and self._tablero[r+3][c] == color:\n",
    "                    return True\n",
    "                \n",
    "    def _revisar_diagonal_derecha(self, color):\n",
    "        # Recorremos las filas en busca de 4 en raya\n",
    "        for c in range(self._columnas - 3):\n",
    "            for r in range(self._filas-1, 2, -1):\n",
    "                if self._tablero[r][c] == color and self._tablero[r-1][c+1] == color and self._tablero[r-2][c+2] == color and self._tablero[r-3][c+3] == color:\n",
    "                    return True\n",
    "                \n",
    "    def _revisar_diagonal_izquierda(self, color):\n",
    "        # Recorremos las filas en busca de 4 en raya\n",
    "        for c in range(self._columnas-1, 2, -1):\n",
    "            for r in range(self._filas-1, 2, -1):\n",
    "                if self._tablero[r][c] == color and self._tablero[r-1][c-1] == color and self._tablero[r-2][c-2] == color and self._tablero[r-3][c-3] == color:\n",
    "                    return True\n",
    "                \n",
    "    def comprobar_ganador(self, color):\n",
    "        return self._revisar_filas(color) or self._revisar_columnas(color) or self._revisar_diagonal_derecha(color) or self._revisar_diagonal_izquierda(color)"
   ]
  },
  {
   "cell_type": "code",
   "execution_count": null,
   "metadata": {},
   "outputs": [],
   "source": [
    "def comprobar_ganador(tablero, color):\n",
    "    return revisar_filas(tablero, color) or revisar_columnas(tablero, color) or revisar_diagonal_derecha(tablero, color) or revisar_diagonal_izquierda(tablero, color)\n",
    "    "
   ]
  },
  {
   "cell_type": "markdown",
   "metadata": {},
   "source": [
    "Realiza algunas pruebas para comprobar si tus funciones de comprobación del ganador funcionan correctamente."
   ]
  },
  {
   "cell_type": "code",
   "execution_count": null,
   "metadata": {},
   "outputs": [],
   "source": [
    "tablero = crear_tablero(6, 7)"
   ]
  },
  {
   "cell_type": "code",
   "execution_count": null,
   "metadata": {},
   "outputs": [],
   "source": [
    "introducir_ficha(tablero, 3, 'A')\n",
    "mostrar_tablero(tablero)"
   ]
  },
  {
   "cell_type": "code",
   "execution_count": null,
   "metadata": {},
   "outputs": [],
   "source": [
    "revisar_filas(tablero, 'R')"
   ]
  },
  {
   "cell_type": "code",
   "execution_count": null,
   "metadata": {},
   "outputs": [],
   "source": [
    "revisar_columnas(tablero, 'A')"
   ]
  },
  {
   "cell_type": "code",
   "execution_count": null,
   "metadata": {},
   "outputs": [],
   "source": [
    "revisar_diagonal_derecha(tablero, 'R')"
   ]
  },
  {
   "cell_type": "code",
   "execution_count": null,
   "metadata": {},
   "outputs": [],
   "source": [
    "revisar_diagonal_izquierda(tablero, 'A')"
   ]
  },
  {
   "cell_type": "markdown",
   "metadata": {},
   "source": [
    "### 4. Crear el menu de juego"
   ]
  },
  {
   "cell_type": "markdown",
   "metadata": {},
   "source": [
    "¡Enhorabuena! Ya has implementado la parte más dificil del juego, lo único que debes hacer ahora es poner todo lo anterior en común e implementar el menu de juego para que los usuarios puedan introducir fichas por turnos hasta que uno de ellos gane."
   ]
  },
  {
   "cell_type": "markdown",
   "metadata": {},
   "source": [
    "<div style=\"background-color:#D9EEFF;color:black;padding:2%;\">Implementa un menu de juego que solicite a los usuarios que introduzcan una ficha por turnos. Ten en cuenta que esta acción debe repetirse hasta que uno de los dos usuarios gane el juego o se acaben las casillas disponibles para introducir fichas.</div>"
   ]
  },
  {
   "cell_type": "markdown",
   "metadata": {},
   "source": [
    "**Pista:** Recuerda que la sentencia `while True` nos permitía ejecutar un conjunto de sentencias de código en Python hasta que rompiesemos la ejecución utilizando algún mecanismo como la palabra reservada `break`."
   ]
  },
  {
   "cell_type": "markdown",
   "metadata": {},
   "source": [
    "**Pista 2**: Utiliza la sentencia que se muestra a continuación para limpiar la pantall cada vez que muestres el tablero."
   ]
  },
  {
   "cell_type": "code",
   "execution_count": 35,
   "metadata": {},
   "outputs": [],
   "source": [
    "from IPython.display import clear_output\n",
    "\n",
    "class CuatroEnRaya:\n",
    "    \n",
    "    def __init__(self, filas, columnas):\n",
    "        \"\"\"Inicializa el estado de la clase.\"\"\"\n",
    "        self._filas = filas\n",
    "        self._columnas = columnas\n",
    "        self._tablero = self.crear_tablero()\n",
    "        self._turno = None\n",
    "        \n",
    "    def crear_tablero(self):\n",
    "        tablero = [None]*self._filas\n",
    "        for f in range(self._filas):\n",
    "            tablero[f] = ['.']*self._columnas\n",
    "        return tablero\n",
    "    \n",
    "    def mostrar_tablero(self):\n",
    "        # Sacamos por pantalla la cabecera\n",
    "        for num in range(self._columnas):\n",
    "            print(num, end='  ')\n",
    "        # Sacamos por pantalla el tablero\n",
    "        for fila in self._tablero:\n",
    "            print(\"\")\n",
    "            for casilla in fila:\n",
    "                print(casilla, end=\"  \")\n",
    "\n",
    "    def introducir_ficha(self, columna, color):\n",
    "        if columna >= self._columnas or columna < 0:\n",
    "            print(\"ERROR: ¡Número de columna fuera del rango!\")\n",
    "        elif self._tablero[0][columna] != '.':\n",
    "            print(\"ERROR: ¡La columna esta llena de fichas!\")\n",
    "        else:\n",
    "            for fila in range(self._filas-1, -1, -1):\n",
    "                if self._tablero[fila][columna] == '.':\n",
    "                    self._tablero[fila][columna] = color\n",
    "                    return\n",
    "             \n",
    "    def _revisar_filas(self, color):\n",
    "        # Recorremos las filas en busca de 4 en raya\n",
    "        for r in range(self._filas):\n",
    "            for c in range(self._columnas - 3):\n",
    "                if self._tablero[r][c] == color and self._tablero[r][c+1] == color and self._tablero[r][c+2] == color and self._tablero[r][c+3] == color:\n",
    "                    return True\n",
    "                \n",
    "                \n",
    "    def _revisar_columnas(self, color):\n",
    "        # Recorremos las filas en busca de 4 en raya\n",
    "        for c in range(self._columnas):\n",
    "            for r in range(self._filas - 3):\n",
    "                if self._tablero[r][c] == color and self._tablero[r+1][c] == color and self._tablero[r+2][c] == color and self._tablero[r+3][c] == color:\n",
    "                    return True\n",
    "                \n",
    "    def _revisar_diagonal_derecha(self, color):\n",
    "        # Recorremos las filas en busca de 4 en raya\n",
    "        for c in range(self._columnas - 3):\n",
    "            for r in range(self._filas-1, 2, -1):\n",
    "                if self._tablero[r][c] == color and self._tablero[r-1][c+1] == color and self._tablero[r-2][c+2] == color and self._tablero[r-3][c+3] == color:\n",
    "                    return True\n",
    "                \n",
    "    def _revisar_diagonal_izquierda(self, color):\n",
    "        # Recorremos las filas en busca de 4 en raya\n",
    "        for c in range(self._columnas-1, 2, -1):\n",
    "            for r in range(self._filas-1, 2, -1):\n",
    "                if self._tablero[r][c] == color and self._tablero[r-1][c-1] == color and self._tablero[r-2][c-2] == color and self._tablero[r-3][c-3] == color:\n",
    "                    return True\n",
    "                \n",
    "    def comprobar_ganador(self, color):\n",
    "        return self._revisar_filas(color) or self._revisar_columnas(color) or self._revisar_diagonal_derecha(color) or self._revisar_diagonal_izquierda(color)\n",
    "    \n",
    "    def jugar(self, player1='X', player2='O'):\n",
    "        self._turno = player2\n",
    "        while True:\n",
    "            self._turno = player1 if self._turno == player2 else player2\n",
    "            self.mostrar_tablero()\n",
    "            columna = int(input(\"Turno del jugador {}:\".format(self._turno)))\n",
    "            self.introducir_ficha(columna, self._turno)\n",
    "            clear_output(wait=False)\n",
    "            if self.comprobar_ganador(self._turno):\n",
    "                print(\"\\n\\nGanador el jugador {}!!\\n\\n\".format(self._turno))\n",
    "                self.mostrar_tablero()\n",
    "                break"
   ]
  },
  {
   "cell_type": "code",
   "execution_count": 38,
   "metadata": {},
   "outputs": [],
   "source": [
    "juego67 = CuatroEnRaya(6, 7)"
   ]
  },
  {
   "cell_type": "code",
   "execution_count": 39,
   "metadata": {},
   "outputs": [],
   "source": [
    "juego1010 = CuatroEnRaya(10, 10)"
   ]
  },
  {
   "cell_type": "code",
   "execution_count": 40,
   "metadata": {},
   "outputs": [
    {
     "name": "stdout",
     "output_type": "stream",
     "text": [
      "0  1  2  3  4  5  6  7  8  9  \n",
      ".  .  .  .  .  .  .  .  .  .  \n",
      ".  .  .  .  .  .  .  .  .  .  \n",
      ".  .  .  .  .  .  .  .  .  .  \n",
      ".  .  .  .  .  .  .  .  .  .  \n",
      ".  .  .  .  .  .  .  .  .  .  \n",
      ".  .  .  .  .  .  .  .  .  .  \n",
      ".  .  .  .  .  .  .  .  .  .  \n",
      ".  .  .  .  .  .  .  .  .  .  \n",
      ".  .  .  .  .  .  .  .  .  .  \n",
      ".  .  .  .  .  .  .  .  .  .  "
     ]
    },
    {
     "ename": "KeyboardInterrupt",
     "evalue": "Interrupted by user",
     "output_type": "error",
     "traceback": [
      "\u001b[1;31m---------------------------------------------------------------------------\u001b[0m",
      "\u001b[1;31mKeyboardInterrupt\u001b[0m                         Traceback (most recent call last)",
      "\u001b[1;32m<ipython-input-40-4f938fade6a9>\u001b[0m in \u001b[0;36m<module>\u001b[1;34m\u001b[0m\n\u001b[1;32m----> 1\u001b[1;33m \u001b[0mjuego1010\u001b[0m\u001b[1;33m.\u001b[0m\u001b[0mjugar\u001b[0m\u001b[1;33m(\u001b[0m\u001b[1;33m)\u001b[0m\u001b[1;33m\u001b[0m\u001b[1;33m\u001b[0m\u001b[0m\n\u001b[0m",
      "\u001b[1;32m<ipython-input-35-832d6fe5a198>\u001b[0m in \u001b[0;36mjugar\u001b[1;34m(self, player1, player2)\u001b[0m\n\u001b[0;32m     74\u001b[0m             \u001b[0mself\u001b[0m\u001b[1;33m.\u001b[0m\u001b[0m_turno\u001b[0m \u001b[1;33m=\u001b[0m \u001b[0mplayer1\u001b[0m \u001b[1;32mif\u001b[0m \u001b[0mself\u001b[0m\u001b[1;33m.\u001b[0m\u001b[0m_turno\u001b[0m \u001b[1;33m==\u001b[0m \u001b[0mplayer2\u001b[0m \u001b[1;32melse\u001b[0m \u001b[0mplayer2\u001b[0m\u001b[1;33m\u001b[0m\u001b[1;33m\u001b[0m\u001b[0m\n\u001b[0;32m     75\u001b[0m             \u001b[0mself\u001b[0m\u001b[1;33m.\u001b[0m\u001b[0mmostrar_tablero\u001b[0m\u001b[1;33m(\u001b[0m\u001b[1;33m)\u001b[0m\u001b[1;33m\u001b[0m\u001b[1;33m\u001b[0m\u001b[0m\n\u001b[1;32m---> 76\u001b[1;33m             \u001b[0mcolumna\u001b[0m \u001b[1;33m=\u001b[0m \u001b[0mint\u001b[0m\u001b[1;33m(\u001b[0m\u001b[0minput\u001b[0m\u001b[1;33m(\u001b[0m\u001b[1;34m\"Turno del jugador {}:\"\u001b[0m\u001b[1;33m.\u001b[0m\u001b[0mformat\u001b[0m\u001b[1;33m(\u001b[0m\u001b[0mself\u001b[0m\u001b[1;33m.\u001b[0m\u001b[0m_turno\u001b[0m\u001b[1;33m)\u001b[0m\u001b[1;33m)\u001b[0m\u001b[1;33m)\u001b[0m\u001b[1;33m\u001b[0m\u001b[1;33m\u001b[0m\u001b[0m\n\u001b[0m\u001b[0;32m     77\u001b[0m             \u001b[0mself\u001b[0m\u001b[1;33m.\u001b[0m\u001b[0mintroducir_ficha\u001b[0m\u001b[1;33m(\u001b[0m\u001b[0mcolumna\u001b[0m\u001b[1;33m,\u001b[0m \u001b[0mself\u001b[0m\u001b[1;33m.\u001b[0m\u001b[0m_turno\u001b[0m\u001b[1;33m)\u001b[0m\u001b[1;33m\u001b[0m\u001b[1;33m\u001b[0m\u001b[0m\n\u001b[0;32m     78\u001b[0m             \u001b[0mclear_output\u001b[0m\u001b[1;33m(\u001b[0m\u001b[0mwait\u001b[0m\u001b[1;33m=\u001b[0m\u001b[1;32mFalse\u001b[0m\u001b[1;33m)\u001b[0m\u001b[1;33m\u001b[0m\u001b[1;33m\u001b[0m\u001b[0m\n",
      "\u001b[1;32m~\\anaconda3\\envs\\cursoPython\\lib\\site-packages\\ipykernel\\kernelbase.py\u001b[0m in \u001b[0;36mraw_input\u001b[1;34m(self, prompt)\u001b[0m\n\u001b[0;32m    858\u001b[0m                 \u001b[1;34m\"raw_input was called, but this frontend does not support input requests.\"\u001b[0m\u001b[1;33m\u001b[0m\u001b[1;33m\u001b[0m\u001b[0m\n\u001b[0;32m    859\u001b[0m             )\n\u001b[1;32m--> 860\u001b[1;33m         return self._input_request(str(prompt),\n\u001b[0m\u001b[0;32m    861\u001b[0m             \u001b[0mself\u001b[0m\u001b[1;33m.\u001b[0m\u001b[0m_parent_ident\u001b[0m\u001b[1;33m,\u001b[0m\u001b[1;33m\u001b[0m\u001b[1;33m\u001b[0m\u001b[0m\n\u001b[0;32m    862\u001b[0m             \u001b[0mself\u001b[0m\u001b[1;33m.\u001b[0m\u001b[0m_parent_header\u001b[0m\u001b[1;33m,\u001b[0m\u001b[1;33m\u001b[0m\u001b[1;33m\u001b[0m\u001b[0m\n",
      "\u001b[1;32m~\\anaconda3\\envs\\cursoPython\\lib\\site-packages\\ipykernel\\kernelbase.py\u001b[0m in \u001b[0;36m_input_request\u001b[1;34m(self, prompt, ident, parent, password)\u001b[0m\n\u001b[0;32m    902\u001b[0m             \u001b[1;32mexcept\u001b[0m \u001b[0mKeyboardInterrupt\u001b[0m\u001b[1;33m:\u001b[0m\u001b[1;33m\u001b[0m\u001b[1;33m\u001b[0m\u001b[0m\n\u001b[0;32m    903\u001b[0m                 \u001b[1;31m# re-raise KeyboardInterrupt, to truncate traceback\u001b[0m\u001b[1;33m\u001b[0m\u001b[1;33m\u001b[0m\u001b[1;33m\u001b[0m\u001b[0m\n\u001b[1;32m--> 904\u001b[1;33m                 \u001b[1;32mraise\u001b[0m \u001b[0mKeyboardInterrupt\u001b[0m\u001b[1;33m(\u001b[0m\u001b[1;34m\"Interrupted by user\"\u001b[0m\u001b[1;33m)\u001b[0m \u001b[1;32mfrom\u001b[0m \u001b[1;32mNone\u001b[0m\u001b[1;33m\u001b[0m\u001b[1;33m\u001b[0m\u001b[0m\n\u001b[0m\u001b[0;32m    905\u001b[0m             \u001b[1;32mexcept\u001b[0m \u001b[0mException\u001b[0m \u001b[1;32mas\u001b[0m \u001b[0me\u001b[0m\u001b[1;33m:\u001b[0m\u001b[1;33m\u001b[0m\u001b[1;33m\u001b[0m\u001b[0m\n\u001b[0;32m    906\u001b[0m                 \u001b[0mself\u001b[0m\u001b[1;33m.\u001b[0m\u001b[0mlog\u001b[0m\u001b[1;33m.\u001b[0m\u001b[0mwarning\u001b[0m\u001b[1;33m(\u001b[0m\u001b[1;34m\"Invalid Message:\"\u001b[0m\u001b[1;33m,\u001b[0m \u001b[0mexc_info\u001b[0m\u001b[1;33m=\u001b[0m\u001b[1;32mTrue\u001b[0m\u001b[1;33m)\u001b[0m\u001b[1;33m\u001b[0m\u001b[1;33m\u001b[0m\u001b[0m\n",
      "\u001b[1;31mKeyboardInterrupt\u001b[0m: Interrupted by user"
     ]
    }
   ],
   "source": [
    "juego1010.jugar()"
   ]
  },
  {
   "cell_type": "code",
   "execution_count": null,
   "metadata": {},
   "outputs": [],
   "source": [
    "\n",
    "\n",
    "clear_output(wait=False)"
   ]
  },
  {
   "cell_type": "code",
   "execution_count": null,
   "metadata": {},
   "outputs": [],
   "source": [
    "tablero = crear_tablero(6, 7)\n",
    "turno = 'X'\n",
    "sig_turno = 'O'\n",
    "while True:\n",
    "    turno = sig_turno\n",
    "    mostrar_tablero(tablero)\n",
    "    time.sleep(0.05)\n",
    "    if turno == 'X':\n",
    "        casilla = input(\"Turno del rojo: \")\n",
    "        sig_turno = 'O'\n",
    "    elif turno == 'O':\n",
    "        casilla = input(\"Turno del amarillo: \")\n",
    "        sig_turno = 'X'\n",
    "    introducir_ficha(tablero, int(casilla), turno)\n",
    "    clear_output(wait=False)\n",
    "    if comprobar_ganador(tablero, turno):\n",
    "        print(\"¡¡¡Ganador el jugador {}!!!\\n\\n\".format(turno))\n",
    "        mostrar_tablero(tablero)\n",
    "        break\n",
    "    "
   ]
  }
 ],
 "metadata": {
  "kernelspec": {
   "display_name": "Python 3",
   "language": "python",
   "name": "python3"
  },
  "language_info": {
   "codemirror_mode": {
    "name": "ipython",
    "version": 3
   },
   "file_extension": ".py",
   "mimetype": "text/x-python",
   "name": "python",
   "nbconvert_exporter": "python",
   "pygments_lexer": "ipython3",
   "version": "3.9.2"
  }
 },
 "nbformat": 4,
 "nbformat_minor": 4
}
